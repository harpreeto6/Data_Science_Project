{
 "cells": [
  {
   "cell_type": "markdown",
   "id": "aa72575d-4be8-41dc-9ec1-a2a5622eedc2",
   "metadata": {},
   "source": [
    "<h1>Project DSCI 100-group-17</h1>\n",
    " Minecraft Data Analysis"
   ]
  },
  {
   "cell_type": "code",
   "execution_count": null,
   "id": "2c7f2493-ed64-4464-b613-3a1b4313a60c",
   "metadata": {},
   "outputs": [],
   "source": []
  }
 ],
 "metadata": {
  "kernelspec": {
   "display_name": "R",
   "language": "R",
   "name": "ir"
  },
  "language_info": {
   "codemirror_mode": "r",
   "file_extension": ".r",
   "mimetype": "text/x-r-source",
   "name": "R",
   "pygments_lexer": "r",
   "version": "4.3.3"
  }
 },
 "nbformat": 4,
 "nbformat_minor": 5
}
